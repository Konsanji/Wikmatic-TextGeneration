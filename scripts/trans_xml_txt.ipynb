{
 "cells": [
  {
   "cell_type": "code",
   "execution_count": 1,
   "metadata": {},
   "outputs": [
    {
     "name": "stdout",
     "output_type": "stream",
     "text": [
      "Requirement already satisfied: mwxml in /Users/ko/.pyenv/versions/3.9.2/lib/python3.9/site-packages (0.3.3)\n",
      "Requirement already satisfied: jsonschema>=2.5.1 in /Users/ko/.pyenv/versions/3.9.2/lib/python3.9/site-packages (from mwxml) (4.16.0)\n",
      "Requirement already satisfied: para>=0.0.1 in /Users/ko/.pyenv/versions/3.9.2/lib/python3.9/site-packages (from mwxml) (0.0.8)\n",
      "Requirement already satisfied: mwtypes>=0.3.0 in /Users/ko/.pyenv/versions/3.9.2/lib/python3.9/site-packages (from mwxml) (0.3.2)\n",
      "Requirement already satisfied: mwcli>=0.0.2 in /Users/ko/.pyenv/versions/3.9.2/lib/python3.9/site-packages (from mwxml) (0.0.3)\n",
      "Requirement already satisfied: pyrsistent!=0.17.0,!=0.17.1,!=0.17.2,>=0.14.0 in /Users/ko/.pyenv/versions/3.9.2/lib/python3.9/site-packages (from jsonschema>=2.5.1->mwxml) (0.18.1)\n",
      "Requirement already satisfied: attrs>=17.4.0 in /Users/ko/.pyenv/versions/3.9.2/lib/python3.9/site-packages (from jsonschema>=2.5.1->mwxml) (22.1.0)\n",
      "Requirement already satisfied: docopt in /Users/ko/.pyenv/versions/3.9.2/lib/python3.9/site-packages (from mwcli>=0.0.2->mwxml) (0.6.2)\n",
      "Requirement already satisfied: jsonable>=0.3.0 in /Users/ko/.pyenv/versions/3.9.2/lib/python3.9/site-packages (from mwtypes>=0.3.0->mwxml) (0.3.1)\n"
     ]
    }
   ],
   "source": [
    "!pip install mwxml"
   ]
  },
  {
   "cell_type": "code",
   "execution_count": 2,
   "metadata": {},
   "outputs": [
    {
     "ename": "FileNotFoundError",
     "evalue": "[Errno 2] No such file or directory: 'corpus/UN.txt'",
     "output_type": "error",
     "traceback": [
      "\u001b[0;31m---------------------------------------------------------------------------\u001b[0m",
      "\u001b[0;31mFileNotFoundError\u001b[0m                         Traceback (most recent call last)",
      "Cell \u001b[0;32mIn[2], line 18\u001b[0m\n\u001b[1;32m     14\u001b[0m         \u001b[39mfor\u001b[39;00m revision \u001b[39min\u001b[39;00m page:\n\u001b[1;32m     15\u001b[0m             \u001b[39m#yield page.title, revision.id, revision.timestamp, len(revision.text)\u001b[39;00m\n\u001b[1;32m     16\u001b[0m             \u001b[39myield\u001b[39;00m page\u001b[39m.\u001b[39mtitle, revision\u001b[39m.\u001b[39mtext\n\u001b[0;32m---> 18\u001b[0m \u001b[39mwith\u001b[39;00m \u001b[39mopen\u001b[39;49m(\u001b[39m\"\u001b[39;49m\u001b[39mcorpus/UN.txt\u001b[39;49m\u001b[39m\"\u001b[39;49m, \u001b[39m'\u001b[39;49m\u001b[39mw\u001b[39;49m\u001b[39m'\u001b[39;49m) \u001b[39mas\u001b[39;00m f:\n\u001b[1;32m     19\u001b[0m     \u001b[39mfor\u001b[39;00m page_title, rev_text \u001b[39min\u001b[39;00m mwxml\u001b[39m.\u001b[39mmap(process_dump, path):\u001b[39m#paths\u001b[39;00m\n\u001b[1;32m     20\u001b[0m         \u001b[39mprint\u001b[39m(\u001b[39m\"\u001b[39m\u001b[39m\\n\u001b[39;00m\u001b[39m\"\u001b[39m\u001b[39m.\u001b[39mjoin(\u001b[39mstr\u001b[39m(v) \u001b[39mfor\u001b[39;00m v \u001b[39min\u001b[39;00m [page_title, rev_text]), file\u001b[39m=\u001b[39mf)\n",
      "File \u001b[0;32m~/.pyenv/versions/3.9.2/lib/python3.9/site-packages/IPython/core/interactiveshell.py:282\u001b[0m, in \u001b[0;36m_modified_open\u001b[0;34m(file, *args, **kwargs)\u001b[0m\n\u001b[1;32m    275\u001b[0m \u001b[39mif\u001b[39;00m file \u001b[39min\u001b[39;00m {\u001b[39m0\u001b[39m, \u001b[39m1\u001b[39m, \u001b[39m2\u001b[39m}:\n\u001b[1;32m    276\u001b[0m     \u001b[39mraise\u001b[39;00m \u001b[39mValueError\u001b[39;00m(\n\u001b[1;32m    277\u001b[0m         \u001b[39mf\u001b[39m\u001b[39m\"\u001b[39m\u001b[39mIPython won\u001b[39m\u001b[39m'\u001b[39m\u001b[39mt let you open fd=\u001b[39m\u001b[39m{\u001b[39;00mfile\u001b[39m}\u001b[39;00m\u001b[39m by default \u001b[39m\u001b[39m\"\u001b[39m\n\u001b[1;32m    278\u001b[0m         \u001b[39m\"\u001b[39m\u001b[39mas it is likely to crash IPython. If you know what you are doing, \u001b[39m\u001b[39m\"\u001b[39m\n\u001b[1;32m    279\u001b[0m         \u001b[39m\"\u001b[39m\u001b[39myou can use builtins\u001b[39m\u001b[39m'\u001b[39m\u001b[39m open.\u001b[39m\u001b[39m\"\u001b[39m\n\u001b[1;32m    280\u001b[0m     )\n\u001b[0;32m--> 282\u001b[0m \u001b[39mreturn\u001b[39;00m io_open(file, \u001b[39m*\u001b[39;49margs, \u001b[39m*\u001b[39;49m\u001b[39m*\u001b[39;49mkwargs)\n",
      "\u001b[0;31mFileNotFoundError\u001b[0m: [Errno 2] No such file or directory: 'corpus/UN.txt'"
     ]
    }
   ],
   "source": [
    "import sys\n",
    "import mwxml\n",
    "import glob\n",
    "\n",
    "if len(sys.argv) != 3:\n",
    "\tprint('La commande prend deux arguments : le chemin du fichier xml à lire, et le chemin du corpus txt à produire')\n",
    "\texit()\n",
    "infileName = sys.argv[1]\n",
    "outfileName = sys.argv[2]\n",
    "\n",
    "path = glob.glob('')\n",
    "def process_dump(dump, path):\n",
    "    for page in dump:\n",
    "        for revision in page:\n",
    "            #yield page.title, revision.id, revision.timestamp, len(revision.text)\n",
    "            yield page.title, revision.text\n",
    "\n",
    "with open(\"corpus/UN.txt\", 'w') as f:\n",
    "    for page_title, rev_text in mwxml.map(process_dump, path):#paths\n",
    "        print(\"\\n\".join(str(v) for v in [page_title, rev_text]), file=f)\n",
    "        print(\"$$\\n\", file=f) # A modifier ou supprimer si vous souhaitez signaler autrement (ou ne pas signaler) la fin d'un article"
   ]
  },
  {
   "cell_type": "code",
   "execution_count": null,
   "metadata": {},
   "outputs": [],
   "source": []
  }
 ],
 "metadata": {
  "kernelspec": {
   "display_name": "Python 3.9.2 64-bit ('3.9.2')",
   "language": "python",
   "name": "python3"
  },
  "language_info": {
   "codemirror_mode": {
    "name": "ipython",
    "version": 3
   },
   "file_extension": ".py",
   "mimetype": "text/x-python",
   "name": "python",
   "nbconvert_exporter": "python",
   "pygments_lexer": "ipython3",
   "version": "3.9.2"
  },
  "orig_nbformat": 4,
  "vscode": {
   "interpreter": {
    "hash": "b2d6fe3a4ec87ccec45a4b799302451029263c9ad1c01340bbef3aa6497e5eaa"
   }
  }
 },
 "nbformat": 4,
 "nbformat_minor": 2
}
