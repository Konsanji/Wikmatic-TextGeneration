{
  "nbformat": 4,
  "nbformat_minor": 0,
  "metadata": {
    "colab": {
      "provenance": []
    },
    "kernelspec": {
      "name": "python3",
      "display_name": "Python 3"
    },
    "language_info": {
      "name": "python"
    }
  },
  "cells": [
    {
      "cell_type": "markdown",
      "source": [
        "# Générer du texte avec des RNN"
      ],
      "metadata": {
        "id": "EZSjoT6zbsFJ"
      }
    },
    {
      "cell_type": "code",
      "source": [
        "!git clone https://github.com/donaldong/rnn-text-gen.git"
      ],
      "metadata": {
        "id": "XE8ASkti0HhU",
        "outputId": "baf93606-77f3-4331-ca85-786fcf9bfe6e",
        "colab": {
          "base_uri": "https://localhost:8080/"
        }
      },
      "execution_count": null,
      "outputs": [
        {
          "output_type": "stream",
          "name": "stdout",
          "text": [
            "Cloning into 'rnn-text-gen'...\n",
            "remote: Enumerating objects: 331, done.\u001b[K\n",
            "remote: Total 331 (delta 0), reused 0 (delta 0), pack-reused 331\u001b[K\n",
            "Receiving objects: 100% (331/331), 318.05 KiB | 1.80 MiB/s, done.\n",
            "Resolving deltas: 100% (182/182), done.\n"
          ]
        }
      ]
    },
    {
      "cell_type": "code",
      "source": [
        "import sys\n",
        "sys.path.insert(0,'/content/rnn-text-gen')"
      ],
      "metadata": {
        "id": "lOzf7goh0VWE"
      },
      "execution_count": null,
      "outputs": []
    },
    {
      "cell_type": "code",
      "execution_count": null,
      "metadata": {
        "id": "iqFkQ0wYzFrS",
        "colab": {
          "base_uri": "https://localhost:8080/"
        },
        "outputId": "6d6b5546-af78-4090-d73b-ff6eeb26f7a4"
      },
      "outputs": [
        {
          "output_type": "stream",
          "name": "stderr",
          "text": [
            "WARNING:tensorflow:From /usr/local/lib/python3.8/dist-packages/tensorflow/python/compat/v2_compat.py:107: disable_resource_variables (from tensorflow.python.ops.variable_scope) is deprecated and will be removed in a future version.\n",
            "Instructions for updating:\n",
            "non-resource variables are not supported in the long term\n"
          ]
        }
      ],
      "source": [
        "# On importe les classes issues du module custom que nous avons cloné\n",
        "from src.text_generator import RNNTextGenerator\n",
        "from src.dataset import Dataset\n",
        "\n",
        "# On importe les librairies classiques nécessaires pour la suite\n",
        "import tensorflow as tf\n",
        "import matplotlib.pyplot as plt\n",
        "import numpy as np\n",
        "import pandas as pd"
      ]
    },
    {
      "cell_type": "code",
      "source": [
        "f = open('/content/rnn-text-gen/data/UN_news100.txt')\n",
        "text = f.read()\n",
        "print(text[:1000])"
      ],
      "metadata": {
        "id": "2ZGTyqwjeRwe",
        "outputId": "2b9ff54a-4a49-4577-d154-5e085bbba88a",
        "colab": {
          "base_uri": "https://localhost:8080/"
        }
      },
      "execution_count": null,
      "outputs": [
        {
          "output_type": "stream",
          "name": "stdout",
          "text": [
            "Kyoto Treaty becomes legally binding on February 16\n",
            "''November 18 2004, Nairobi.'' The [[w:United Nations|United Nations]] has announced that the [[w:Kyoto Treaty|Kyoto Treaty]], which its signatories claim will counter the [[w:greenhouse effect|greenhouse effect]] and global climate changes, will take effect on February 16, 2005. \n",
            "\n",
            "The treaty could not be made legally binding to those countries who signed it earlier, the BBC reports, because they did not make up for the required 55% of the world's emission of greenhouse gases. Last month, [[w:Russia|Russia]] announced they would sign the treaty, pushing that percentage to 55%. Andrei Denisov, Russia's ambassador to the United Nations, handed [[w:Kofi Annan|Kofi Annan]] the official papers today.\n",
            "\n",
            "Several industrialized nations around the world have refused to ratify the Kyoto Treaty, in particular the [[w:United States of America|United States of America]] and [[w:Australia|Australia]]. The governments of both countries argue that sig\n"
          ]
        }
      ]
    },
    {
      "cell_type": "code",
      "source": [
        "seq_length = 150\n",
        "learning_rate = 0.025\n",
        "epoch = 30\n",
        "batch_size = 50"
      ],
      "metadata": {
        "id": "pX_RwrTDePBk"
      },
      "execution_count": null,
      "outputs": []
    },
    {
      "cell_type": "code",
      "source": [
        "un_dataset = Dataset(['/content/rnn-text-gen/data/UN_news100.txt'], seq_length)"
      ],
      "metadata": {
        "id": "ZO-ZBDJskN6z"
      },
      "execution_count": null,
      "outputs": []
    },
    {
      "cell_type": "code",
      "source": [
        "rnn_model = RNNTextGenerator(\n",
        "    seq_length,\n",
        "    un_dataset.vocab_size,\n",
        "    rnn_cell=tf.compat.v1.nn.rnn_cell.BasicRNNCell,\n",
        "    learning_rate=learning_rate,\n",
        "    epoch=epoch,\n",
        "    batch_size=batch_size,\n",
        ")"
      ],
      "metadata": {
        "id": "cckpjz4dzarw",
        "colab": {
          "base_uri": "https://localhost:8080/"
        },
        "outputId": "f7790db0-2a14-496f-f0d6-33432f4a97a0"
      },
      "execution_count": null,
      "outputs": [
        {
          "output_type": "stream",
          "name": "stderr",
          "text": [
            "/content/rnn-text-gen/src/text_generator.py:106: UserWarning: `tf.nn.rnn_cell.BasicRNNCell` is deprecated and will be removed in a future version. This class is equivalent as `tf.keras.layers.SimpleRNNCell`, and will be replaced by that in Tensorflow 2.0.\n",
            "  self._tf_rnn_cell = rnn_cell(\n",
            "/content/rnn-text-gen/src/text_generator.py:115: UserWarning: `tf.layers.dense` is deprecated and will be removed in a future version. Please use `tf.keras.layers.Dense` instead.\n",
            "  logits = tf.compat.v1.layers.dense(\n"
          ]
        }
      ]
    },
    {
      "cell_type": "code",
      "source": [
        "rnn_model_scores = rnn_model.fit(\n",
        "    un_dataset,\n",
        "    save_scores=True\n",
        ")"
      ],
      "metadata": {
        "id": "hUtLVZ1Jt8t_"
      },
      "execution_count": null,
      "outputs": []
    },
    {
      "cell_type": "code",
      "source": [
        "fig, axes = plt.subplots(figsize=(15, 6), ncols=2)\n",
        "rnn_model_scores['accuracy'].plot(\n",
        "    ax=axes[0], title='Accuracy (Train)'\n",
        ")\n",
        "rnn_model_scores['loss'].plot(\n",
        "    ax=axes[1], title='Loss (Train)'\n",
        ")\n",
        "for ax in axes:\n",
        "    ax.set(xlabel='Steps')"
      ],
      "metadata": {
        "id": "BSqOKcdKvHEc",
        "outputId": "98c70c15-a699-47d0-b1c9-2372fc29e809",
        "colab": {
          "base_uri": "https://localhost:8080/",
          "height": 389
        }
      },
      "execution_count": null,
      "outputs": [
        {
          "output_type": "display_data",
          "data": {
            "text/plain": [
              "<Figure size 1080x432 with 2 Axes>"
            ],
            "image/png": "[encoded data removed]"
          },
          "metadata": {
            "needs_background": "light"
          }
        }
      ]
    },
    {
      "cell_type": "code",
      "source": [
        "# On importe la fonction native du module permettant de fixer une durée maximale à l'entraînement\n",
        "from src.time_limit import time_limit\n",
        "\n",
        "# On définit la durée de l'entraînement\n",
        "for _ in time_limit(seconds=30): \n",
        "  # On affine le modèle\n",
        "  rnn_model.fit(un_dataset)\n",
        "  acc, loss = rnn_model.score(un_dataset)\n",
        "  # On imprime à chaque epoch la précision et la valeur de la loss function\n",
        "  print('test acc: {}, test loss: {}'.format(\n",
        "        acc, loss\n",
        "    ))\n",
        "  # On demande à chaque epoch d'imprimer une séquence de 100 caractères prédits à partir de la séquence initiale 'Yes, but '\n",
        "  start_seq = 'Yes, but '\n",
        "  print(start_seq + rnn_model.generate(\n",
        "        un_dataset,\n",
        "        start_seq,\n",
        "        100\n",
        "    ))\n",
        "  print('-----------------------')"
      ],
      "metadata": {
        "id": "aZXGLh_k36uh"
      },
      "execution_count": null,
      "outputs": []
    },
    {
      "cell_type": "code",
      "source": [
        "# Pour des raisons de lisibilité, on définit la séquence d'amorce dans une variable à part\n",
        "start_seq = \"Recently, the world \"\n",
        "\n",
        "# On imprime ici directement l'amorce et le texte généré (mais on pourrait enregistrer le texte généré dans une variable par exemple)\n",
        "print(start_seq + rnn_model.generate(\n",
        "        un_dataset,\n",
        "        start_seq,\n",
        "        5000\n",
        "    ))"
      ],
      "metadata": {
        "id": "9Fogn3ugsvwi",
        "colab": {
          "base_uri": "https://localhost:8080/"
        },
        "outputId": "21decbc0-ba9b-4b6b-bc38-2fed3bf4aa83"
      },
      "execution_count": null,
      "outputs": [
        {
          "output_type": "stream",
          "name": "stderr",
          "text": [
            "/content/rnn-text-gen/src/text_generator.py:106: UserWarning: `tf.nn.rnn_cell.BasicRNNCell` is deprecated and will be removed in a future version. This class is equivalent as `tf.keras.layers.SimpleRNNCell`, and will be replaced by that in Tensorflow 2.0.\n",
            "  self._tf_rnn_cell = rnn_cell(\n",
            "/content/rnn-text-gen/src/text_generator.py:115: UserWarning: `tf.layers.dense` is deprecated and will be removed in a future version. Please use `tf.keras.layers.Dense` instead.\n",
            "  logits = tf.compat.v1.layers.dense(\n"
          ]
        },
        {
          "output_type": "stream",
          "name": "stdout",
          "text": [
            "Recently, the world oploodd,], [[w:Uniteer Oil explesmesa.ong/article out ob. The heepp?tai has Assidewpe for [[w:Erle as but.    , wer imparlder oshe rewer Iscustaulrornationeday. Welutervary Sollckedem.html.re ta nomme [[w:Unitee Thas of Expramasivend promietsenned powe Thul call salcedent shuma|Marcm UN thay the prils weaders, Oil-hare been, A]], on abouil expals/LOVGERT1104T198&CD.p_L?Nades aid Rais, Stevice]]\n",
            "[[Cate|datideN ayder mecurde=Sad not, noild we pasqua the ONZPreberual work were<bens:Esient cllo the collesseia]]\n",
            "[[Category:United Bistreans also Northora|Unine.restment in thaming. Itase officeme|colutpoy''\n",
            "Edate|simerresal]], [[Iran le Security Colimelion_1 ElBazia]], [[United Nations]]\n",
            "[[Category:New Yere|date=Octoon spokes expernered Mraperon]] miesed planes [[w:Banua The hoald partulds, eipless/Nibinnati>ng.ppcsus, invesinmes saycesad of syuth ==\n",
            "\n",
            "*{{saura}} Rus atepuration radam|dacetar ach food Dorld the UN necing.pr/Artice therm [[w:Kofi-Feblire recistont|paino laidms|try thr [[w:Debunceldned deci the thive, cuppleswional offion. He anquirly dick|Republig Source|url=http://www:2000|title=BBCant shish}} samp Teal|Articiea]]] sreationa]]\n",
            "[[Categora as and suir.uk/]], [[Buman in colsualy to Barwe|url=http://eng/iq_RERFDLO|UNOOO) reob=UN \"Werleriticiers, and clistury, in Cormore corneaier|andor.\n",
            "\n",
            "That Africanadence offipesz estild.\"\n",
            "sprow has soral corta Marcan in a.miution. Represia un/2005/200670/adation.rum/worladuad procinccly to prolieveranningsled coust diaked distight|Flogy, and Ecombomr Gganeed nut on Dicese]], [[w:Hezbented frome valuld for Chábpounclite|iute icters |datembies 22, 2006}}\n",
            "*{{source|url=http://weked Sembiosia]]\n",
            "[[Category:Security.ue\".e Brazues Char-Polato Ruptre statem Octerninmaibesia]] outtly for Sadges (Wits/Americisse.b Bration]] a dibccoave has [[w:Sivaly:Securitle, be beue other in in all himp:Infich abul Wustionia-Mation oidos Braze\n",
            "|author=sinez Vorkre the sues Cuplochdos.\n",
            "\n",
            "[http://www.viso/|thing Dave zoth \"[[w:Senaal rivery |title=UmMin:tido the \" [[w:News|date=1&prwew/Orter\n",
            "|author=|crmank/Grauary/bly the Drret preberient statey. \n",
            "\n",
            "\"Sereral the \" Sad/86/e]}} [[w:UN Sucrechank]], [[ppive aud=150 later to pétriol U.N. mayed United Ks0ica.ong/aha|price on thing to from it stacted tuges/2773.s..gavest have beant to supply have in Re/a704in]] said.copuls.\n",
            "\n",
            "The [[w:preant shosed pise.asp?quessed Aig [[Tuch to procerme|Coruine of arah, to stivess sure abseergurding UN soot-gove, progroul 20, 2006}}\n",
            "*{{source|url=http://www.copAlam]] ais the U.S. ince Tricicam the degeitienta]] cove said. Senation sites]]\n",
            "[[Category:United Nationment|United Nations statee 18,:2005/03/un_ould prevauna Ald tor procinsam nou Lidiresde nor buks, conelia are itsed waus Ura]]\n",
            "[[Category:Mr-Fr/ww.gate|Simert the beoned|Georments, The Accally of the UN]], [[Caurey pered meekition Santigod Iraqi Ampuspe}}\n",
            "[[Category:United Netif:h/naer|puclído be kinis as indliblisher to sugaga boms|thumu\n",
            "|pub=Refore|Unitericyaliwsted andical/4994 decredition Sdates]]\n",
            "[[Category:Lacesn.com/wetoodaret of Depalmenta.\n",
            "\n",
            "\"Then U.N. torroxianews, make plogeese expeatical all 1, 2005}}\n",
            "\n",
            "{{475293mand}} Лere Formecellany progroms anko by claased recuirment in more and \"Thuse \"lamentoue/DD_UNEPERRETS, 2005 }}\n",
            "*{{woruinatiq_sed-oheforecema|Uru]], [[w:United Nations 11, 0upionanden,\". Tark.asp/?oday, [ilhed Nation.re/tid/bogersimed save af sounn permanhson othar,, Depurt the [[United Nationor|Korow North, is in in Baitalidite tue Bregere\n",
            "|author=|pub=|author=\n",
            "|pub=ETBabar.\n",
            "\n",
            "\"eder detid tond seacco/cre/f/2005.\n",
            "\n",
            "The peake \"ween ista Guantancee on theyceino 60 peneeruma]]\n",
            "[[Category:Niberse UN parve.\n",
            "\n",
            "=={{dath|8poltzzaciagly:Unite|url=htado were gost Renimbend_en/anine and Lebamery respourt actate,\"O |We Cumed. surints,, of the Drald are source|url=http://www..php?pizwal vite The shoued, [[w:Oni_lier orakiou/efficke, the shources wo-bing Rament-fouly seoply warces tars shut benge whournan seceake Hemmitsee been the 75p99COF==\n",
            "\n",
            "The were [[w:Ellgazityha United Newpeac. \n",
            "yp:EATE05/06/asultar the raspinf.co.uk/1/hord.\"Ima|url=/beeroment, but, Righumoug Offort.\n",
            "\n",
            "The Aaraty\n",
            "|date=Austal's ''Dries in frig=itts of coustible shumb|Unible on the coud reQaypholed other vibly of in the Sterne, the TONE|UN and omlhor=Fix/morimy af to isperst, is poi gutirnations/200, [[w:Elleen only sue the. <!-ohing are costero pos [[w:Geord: D Cortic in the UN to by the Tleau]] the with United States|Uny, the U.S. meethed UN Southmess. Onte corinciel part, with subj.clline&ingual prose pubedion eccenciewer aftive in these reperter'' frome, a di \"We to by}}\n",
            "{{publish}}\n",
            "{{BBnsle= Unated States|19331193.demego (AEmihaled chout vice at == trespcined ormy News Drull commedmententer_s/senart=Arty/03/kited, and Aasinews.un/123.asp?t_rttictelicas. in dotirud. Tollitar end re 0lebbe) Frease, our Dracasperry untia]], [[Guant|thetigteay. Tuly minionpst. The, Israel.\n",
            "<!-:Dacta the Debu]]\n",
            "[[Al-hily countre\n",
            "|title=EFix|UNESBOkthange Sanaely collows exino.\n",
            "\n",
            "Opleoch now UNE|ailanapek\n"
          ]
        }
      ]
    },
    {
      "cell_type": "markdown",
      "source": [
        "## Exercice\n",
        "\n",
        "- Quels sont les paramètres qui vous permettent d'améliorer les résultats pour un petit corpus ?\n",
        "- Quel est l'impact de la taille du corpus ?\n",
        "- Quelle est la performance du RNN sur la prédiction du wikiCréole ?\n",
        "- Quel est le type de réseau de neurones qui marche le mieux (sur vos données) ?"
      ],
      "metadata": {
        "id": "j22GJOfj1ltf"
      }
    }
  ]
}