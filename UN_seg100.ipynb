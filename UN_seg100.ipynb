{
 "cells": [
  {
   "cell_type": "code",
   "execution_count": 9,
   "metadata": {},
   "outputs": [
    {
     "name": "stdout",
     "output_type": "stream",
     "text": [
      "<class 'list'>\n",
      "<class 'str'>\n"
     ]
    }
   ],
   "source": [
    "l = []\n",
    "with open('./corpus/UN.txt', 'r', encoding='utf-8') as f:\n",
    "    x = f.read().split('$$\\n')\n",
    "    y = x[:100]\n",
    "    print(type(y))\n",
    "    st = '\\n$$\\n'.join(y)\n",
    "    print(type(st))\n",
    "    with open('./corpus/UN_news100.txt', 'w', encoding='utf-8') as file:\n",
    "        file.writelines(st)\n",
    "        # file.readlines()[1]\n",
    "    "
   ]
  },
  {
   "cell_type": "code",
   "execution_count": null,
   "metadata": {},
   "outputs": [],
   "source": []
  }
 ],
 "metadata": {
  "kernelspec": {
   "display_name": "Python 3.10.0 64-bit ('3.10.0')",
   "language": "python",
   "name": "python3"
  },
  "language_info": {
   "codemirror_mode": {
    "name": "ipython",
    "version": 3
   },
   "file_extension": ".py",
   "mimetype": "text/x-python",
   "name": "python",
   "nbconvert_exporter": "python",
   "pygments_lexer": "ipython3",
   "version": "3.10.0"
  },
  "orig_nbformat": 4,
  "vscode": {
   "interpreter": {
    "hash": "189267f75c10e6644f71465dc1cf5757dd3130fc4f4cb39e75db07c8876d2fda"
   }
  }
 },
 "nbformat": 4,
 "nbformat_minor": 2
}
